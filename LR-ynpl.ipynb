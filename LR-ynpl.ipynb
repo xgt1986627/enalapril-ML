{
 "cells": [
  {
   "cell_type": "code",
   "execution_count": 1,
   "id": "b197e88b",
   "metadata": {},
   "outputs": [],
   "source": [
    "import numpy as np\n",
    "import pandas as pd\n",
    "from sklearn.preprocessing import StandardScaler\n",
    "from sklearn.linear_model import LinearRegression, Lasso, Ridge, ElasticNet\n",
    "from sklearn.linear_model import LogisticRegression\n",
    "from sklearn.model_selection import KFold,ShuffleSplit,cross_val_score"
   ]
  },
  {
   "cell_type": "code",
   "execution_count": 2,
   "id": "7715ae7a",
   "metadata": {},
   "outputs": [],
   "source": [
    "shuju2= pd.read_excel(\"6.15-KNN-ANOVA-feature rank-1.1-2-100-2-L2-TOP25+5-pre300.xlsx\",index_col=0)"
   ]
  },
  {
   "cell_type": "code",
   "execution_count": 3,
   "id": "4a26ff32",
   "metadata": {},
   "outputs": [],
   "source": [
    "shuju2_ =shuju2.copy()"
   ]
  },
  {
   "cell_type": "code",
   "execution_count": 4,
   "id": "16e88dc6",
   "metadata": {},
   "outputs": [
    {
     "data": {
      "text/html": [
       "<div>\n",
       "<style scoped>\n",
       "    .dataframe tbody tr th:only-of-type {\n",
       "        vertical-align: middle;\n",
       "    }\n",
       "\n",
       "    .dataframe tbody tr th {\n",
       "        vertical-align: top;\n",
       "    }\n",
       "\n",
       "    .dataframe thead th {\n",
       "        text-align: right;\n",
       "    }\n",
       "</style>\n",
       "<table border=\"1\" class=\"dataframe\">\n",
       "  <thead>\n",
       "    <tr style=\"text-align: right;\">\n",
       "      <th></th>\n",
       "      <th>CASE_control</th>\n",
       "      <th>rs4972989</th>\n",
       "      <th>rs2295363</th>\n",
       "      <th>rs200989520</th>\n",
       "      <th>rs2223477</th>\n",
       "      <th>rs56289967</th>\n",
       "      <th>rs1554005</th>\n",
       "      <th>rs910697</th>\n",
       "      <th>rs117432374</th>\n",
       "      <th>rs765179955</th>\n",
       "      <th>...</th>\n",
       "      <th>rs1045910</th>\n",
       "      <th>rs1809914</th>\n",
       "      <th>rs780404976</th>\n",
       "      <th>rs9424680</th>\n",
       "      <th>rs2803340</th>\n",
       "      <th>rs1635031</th>\n",
       "      <th>rs10880030</th>\n",
       "      <th>rs4663</th>\n",
       "      <th>rs10785227</th>\n",
       "      <th>rs13009649</th>\n",
       "    </tr>\n",
       "    <tr>\n",
       "      <th>T: ID</th>\n",
       "      <th></th>\n",
       "      <th></th>\n",
       "      <th></th>\n",
       "      <th></th>\n",
       "      <th></th>\n",
       "      <th></th>\n",
       "      <th></th>\n",
       "      <th></th>\n",
       "      <th></th>\n",
       "      <th></th>\n",
       "      <th></th>\n",
       "      <th></th>\n",
       "      <th></th>\n",
       "      <th></th>\n",
       "      <th></th>\n",
       "      <th></th>\n",
       "      <th></th>\n",
       "      <th></th>\n",
       "      <th></th>\n",
       "      <th></th>\n",
       "      <th></th>\n",
       "    </tr>\n",
       "  </thead>\n",
       "  <tbody>\n",
       "    <tr>\n",
       "      <th>1</th>\n",
       "      <td>1</td>\n",
       "      <td>0.797032</td>\n",
       "      <td>-0.600530</td>\n",
       "      <td>0.797032</td>\n",
       "      <td>-0.911694</td>\n",
       "      <td>0.104015</td>\n",
       "      <td>-1.136390</td>\n",
       "      <td>0.797032</td>\n",
       "      <td>0.104015</td>\n",
       "      <td>0.104015</td>\n",
       "      <td>...</td>\n",
       "      <td>-1.312180</td>\n",
       "      <td>0.797032</td>\n",
       "      <td>-1.177420</td>\n",
       "      <td>0.104015</td>\n",
       "      <td>-1.107930</td>\n",
       "      <td>0.644720</td>\n",
       "      <td>0.371415</td>\n",
       "      <td>0.370799</td>\n",
       "      <td>0.371804</td>\n",
       "      <td>-0.826056</td>\n",
       "    </tr>\n",
       "    <tr>\n",
       "      <th>2</th>\n",
       "      <td>0</td>\n",
       "      <td>-1.148260</td>\n",
       "      <td>0.784447</td>\n",
       "      <td>-1.619470</td>\n",
       "      <td>0.784447</td>\n",
       "      <td>0.100585</td>\n",
       "      <td>-1.119660</td>\n",
       "      <td>0.100585</td>\n",
       "      <td>-1.481090</td>\n",
       "      <td>0.100585</td>\n",
       "      <td>...</td>\n",
       "      <td>0.100585</td>\n",
       "      <td>0.100585</td>\n",
       "      <td>-0.903234</td>\n",
       "      <td>0.100585</td>\n",
       "      <td>0.100585</td>\n",
       "      <td>0.644720</td>\n",
       "      <td>0.371415</td>\n",
       "      <td>0.370799</td>\n",
       "      <td>0.371804</td>\n",
       "      <td>-0.649117</td>\n",
       "    </tr>\n",
       "    <tr>\n",
       "      <th>3</th>\n",
       "      <td>0</td>\n",
       "      <td>-1.264620</td>\n",
       "      <td>-1.294560</td>\n",
       "      <td>-0.847263</td>\n",
       "      <td>0.047272</td>\n",
       "      <td>-1.378170</td>\n",
       "      <td>-0.930185</td>\n",
       "      <td>-1.171290</td>\n",
       "      <td>-0.488262</td>\n",
       "      <td>0.047272</td>\n",
       "      <td>...</td>\n",
       "      <td>0.866557</td>\n",
       "      <td>0.866557</td>\n",
       "      <td>-1.596320</td>\n",
       "      <td>0.047272</td>\n",
       "      <td>0.047272</td>\n",
       "      <td>0.644720</td>\n",
       "      <td>-2.752730</td>\n",
       "      <td>-2.760810</td>\n",
       "      <td>-2.740680</td>\n",
       "      <td>0.461070</td>\n",
       "    </tr>\n",
       "    <tr>\n",
       "      <th>4</th>\n",
       "      <td>0</td>\n",
       "      <td>0.793985</td>\n",
       "      <td>-1.161870</td>\n",
       "      <td>-0.954018</td>\n",
       "      <td>-1.343730</td>\n",
       "      <td>0.104101</td>\n",
       "      <td>0.793985</td>\n",
       "      <td>0.104101</td>\n",
       "      <td>-1.108650</td>\n",
       "      <td>0.104101</td>\n",
       "      <td>...</td>\n",
       "      <td>-1.257140</td>\n",
       "      <td>0.104101</td>\n",
       "      <td>-1.253610</td>\n",
       "      <td>0.104101</td>\n",
       "      <td>-1.028220</td>\n",
       "      <td>-0.379952</td>\n",
       "      <td>0.371415</td>\n",
       "      <td>0.370799</td>\n",
       "      <td>0.371804</td>\n",
       "      <td>-0.633687</td>\n",
       "    </tr>\n",
       "    <tr>\n",
       "      <th>5</th>\n",
       "      <td>1</td>\n",
       "      <td>0.867424</td>\n",
       "      <td>0.867424</td>\n",
       "      <td>-1.048980</td>\n",
       "      <td>-1.812770</td>\n",
       "      <td>-1.037140</td>\n",
       "      <td>-0.868842</td>\n",
       "      <td>0.105112</td>\n",
       "      <td>-1.029900</td>\n",
       "      <td>0.867424</td>\n",
       "      <td>...</td>\n",
       "      <td>-0.713945</td>\n",
       "      <td>0.867424</td>\n",
       "      <td>-1.377610</td>\n",
       "      <td>0.105112</td>\n",
       "      <td>0.867424</td>\n",
       "      <td>-0.725287</td>\n",
       "      <td>0.371415</td>\n",
       "      <td>0.370799</td>\n",
       "      <td>0.371804</td>\n",
       "      <td>-0.213265</td>\n",
       "    </tr>\n",
       "    <tr>\n",
       "      <th>...</th>\n",
       "      <td>...</td>\n",
       "      <td>...</td>\n",
       "      <td>...</td>\n",
       "      <td>...</td>\n",
       "      <td>...</td>\n",
       "      <td>...</td>\n",
       "      <td>...</td>\n",
       "      <td>...</td>\n",
       "      <td>...</td>\n",
       "      <td>...</td>\n",
       "      <td>...</td>\n",
       "      <td>...</td>\n",
       "      <td>...</td>\n",
       "      <td>...</td>\n",
       "      <td>...</td>\n",
       "      <td>...</td>\n",
       "      <td>...</td>\n",
       "      <td>...</td>\n",
       "      <td>...</td>\n",
       "      <td>...</td>\n",
       "      <td>...</td>\n",
       "    </tr>\n",
       "    <tr>\n",
       "      <th>296</th>\n",
       "      <td>0</td>\n",
       "      <td>0.622012</td>\n",
       "      <td>0.622012</td>\n",
       "      <td>-1.024290</td>\n",
       "      <td>0.266196</td>\n",
       "      <td>0.266196</td>\n",
       "      <td>-1.050590</td>\n",
       "      <td>0.266196</td>\n",
       "      <td>0.266196</td>\n",
       "      <td>0.266196</td>\n",
       "      <td>...</td>\n",
       "      <td>0.266196</td>\n",
       "      <td>0.266196</td>\n",
       "      <td>-1.599590</td>\n",
       "      <td>0.266196</td>\n",
       "      <td>0.266196</td>\n",
       "      <td>0.644720</td>\n",
       "      <td>0.371415</td>\n",
       "      <td>0.370799</td>\n",
       "      <td>0.371804</td>\n",
       "      <td>-0.790361</td>\n",
       "    </tr>\n",
       "    <tr>\n",
       "      <th>297</th>\n",
       "      <td>0</td>\n",
       "      <td>-1.045950</td>\n",
       "      <td>-0.962075</td>\n",
       "      <td>-0.894746</td>\n",
       "      <td>0.281950</td>\n",
       "      <td>0.281950</td>\n",
       "      <td>0.281950</td>\n",
       "      <td>0.611749</td>\n",
       "      <td>-0.787931</td>\n",
       "      <td>0.281950</td>\n",
       "      <td>...</td>\n",
       "      <td>0.281950</td>\n",
       "      <td>0.611749</td>\n",
       "      <td>-1.085890</td>\n",
       "      <td>0.281950</td>\n",
       "      <td>-1.334930</td>\n",
       "      <td>-0.842158</td>\n",
       "      <td>0.371415</td>\n",
       "      <td>0.370799</td>\n",
       "      <td>0.371804</td>\n",
       "      <td>0.461070</td>\n",
       "    </tr>\n",
       "    <tr>\n",
       "      <th>298</th>\n",
       "      <td>0</td>\n",
       "      <td>-0.793972</td>\n",
       "      <td>0.819136</td>\n",
       "      <td>0.819136</td>\n",
       "      <td>0.111710</td>\n",
       "      <td>-1.138240</td>\n",
       "      <td>0.111710</td>\n",
       "      <td>-1.065920</td>\n",
       "      <td>-1.053190</td>\n",
       "      <td>0.111710</td>\n",
       "      <td>...</td>\n",
       "      <td>0.111710</td>\n",
       "      <td>0.819136</td>\n",
       "      <td>-1.332930</td>\n",
       "      <td>0.111710</td>\n",
       "      <td>0.819136</td>\n",
       "      <td>-0.430023</td>\n",
       "      <td>0.371415</td>\n",
       "      <td>0.370799</td>\n",
       "      <td>0.371804</td>\n",
       "      <td>0.461070</td>\n",
       "    </tr>\n",
       "    <tr>\n",
       "      <th>299</th>\n",
       "      <td>1</td>\n",
       "      <td>-0.853673</td>\n",
       "      <td>0.655369</td>\n",
       "      <td>-0.969284</td>\n",
       "      <td>0.261792</td>\n",
       "      <td>0.261792</td>\n",
       "      <td>-1.028030</td>\n",
       "      <td>0.261792</td>\n",
       "      <td>-0.629557</td>\n",
       "      <td>0.261792</td>\n",
       "      <td>...</td>\n",
       "      <td>0.261792</td>\n",
       "      <td>0.261792</td>\n",
       "      <td>0.261792</td>\n",
       "      <td>0.655369</td>\n",
       "      <td>0.261792</td>\n",
       "      <td>0.644720</td>\n",
       "      <td>0.371415</td>\n",
       "      <td>0.370799</td>\n",
       "      <td>0.371804</td>\n",
       "      <td>0.461070</td>\n",
       "    </tr>\n",
       "    <tr>\n",
       "      <th>300</th>\n",
       "      <td>1</td>\n",
       "      <td>0.596623</td>\n",
       "      <td>-1.168760</td>\n",
       "      <td>-0.930111</td>\n",
       "      <td>-0.992758</td>\n",
       "      <td>0.305151</td>\n",
       "      <td>-0.999456</td>\n",
       "      <td>0.305151</td>\n",
       "      <td>-0.625991</td>\n",
       "      <td>0.305151</td>\n",
       "      <td>...</td>\n",
       "      <td>0.305151</td>\n",
       "      <td>0.596623</td>\n",
       "      <td>-1.035220</td>\n",
       "      <td>0.305151</td>\n",
       "      <td>-1.034770</td>\n",
       "      <td>0.644720</td>\n",
       "      <td>0.371415</td>\n",
       "      <td>0.370799</td>\n",
       "      <td>0.371804</td>\n",
       "      <td>0.461070</td>\n",
       "    </tr>\n",
       "  </tbody>\n",
       "</table>\n",
       "<p>300 rows × 30 columns</p>\n",
       "</div>"
      ],
      "text/plain": [
       "       CASE_control  rs4972989  rs2295363  rs200989520  rs2223477  rs56289967  \\\n",
       "T: ID                                                                           \n",
       "1                 1   0.797032  -0.600530     0.797032  -0.911694    0.104015   \n",
       "2                 0  -1.148260   0.784447    -1.619470   0.784447    0.100585   \n",
       "3                 0  -1.264620  -1.294560    -0.847263   0.047272   -1.378170   \n",
       "4                 0   0.793985  -1.161870    -0.954018  -1.343730    0.104101   \n",
       "5                 1   0.867424   0.867424    -1.048980  -1.812770   -1.037140   \n",
       "...             ...        ...        ...          ...        ...         ...   \n",
       "296               0   0.622012   0.622012    -1.024290   0.266196    0.266196   \n",
       "297               0  -1.045950  -0.962075    -0.894746   0.281950    0.281950   \n",
       "298               0  -0.793972   0.819136     0.819136   0.111710   -1.138240   \n",
       "299               1  -0.853673   0.655369    -0.969284   0.261792    0.261792   \n",
       "300               1   0.596623  -1.168760    -0.930111  -0.992758    0.305151   \n",
       "\n",
       "       rs1554005  rs910697  rs117432374  rs765179955  ...  rs1045910  \\\n",
       "T: ID                                                 ...              \n",
       "1      -1.136390  0.797032     0.104015     0.104015  ...  -1.312180   \n",
       "2      -1.119660  0.100585    -1.481090     0.100585  ...   0.100585   \n",
       "3      -0.930185 -1.171290    -0.488262     0.047272  ...   0.866557   \n",
       "4       0.793985  0.104101    -1.108650     0.104101  ...  -1.257140   \n",
       "5      -0.868842  0.105112    -1.029900     0.867424  ...  -0.713945   \n",
       "...          ...       ...          ...          ...  ...        ...   \n",
       "296    -1.050590  0.266196     0.266196     0.266196  ...   0.266196   \n",
       "297     0.281950  0.611749    -0.787931     0.281950  ...   0.281950   \n",
       "298     0.111710 -1.065920    -1.053190     0.111710  ...   0.111710   \n",
       "299    -1.028030  0.261792    -0.629557     0.261792  ...   0.261792   \n",
       "300    -0.999456  0.305151    -0.625991     0.305151  ...   0.305151   \n",
       "\n",
       "       rs1809914  rs780404976  rs9424680  rs2803340  rs1635031  rs10880030  \\\n",
       "T: ID                                                                        \n",
       "1       0.797032    -1.177420   0.104015  -1.107930   0.644720    0.371415   \n",
       "2       0.100585    -0.903234   0.100585   0.100585   0.644720    0.371415   \n",
       "3       0.866557    -1.596320   0.047272   0.047272   0.644720   -2.752730   \n",
       "4       0.104101    -1.253610   0.104101  -1.028220  -0.379952    0.371415   \n",
       "5       0.867424    -1.377610   0.105112   0.867424  -0.725287    0.371415   \n",
       "...          ...          ...        ...        ...        ...         ...   \n",
       "296     0.266196    -1.599590   0.266196   0.266196   0.644720    0.371415   \n",
       "297     0.611749    -1.085890   0.281950  -1.334930  -0.842158    0.371415   \n",
       "298     0.819136    -1.332930   0.111710   0.819136  -0.430023    0.371415   \n",
       "299     0.261792     0.261792   0.655369   0.261792   0.644720    0.371415   \n",
       "300     0.596623    -1.035220   0.305151  -1.034770   0.644720    0.371415   \n",
       "\n",
       "         rs4663  rs10785227  rs13009649  \n",
       "T: ID                                    \n",
       "1      0.370799    0.371804   -0.826056  \n",
       "2      0.370799    0.371804   -0.649117  \n",
       "3     -2.760810   -2.740680    0.461070  \n",
       "4      0.370799    0.371804   -0.633687  \n",
       "5      0.370799    0.371804   -0.213265  \n",
       "...         ...         ...         ...  \n",
       "296    0.370799    0.371804   -0.790361  \n",
       "297    0.370799    0.371804    0.461070  \n",
       "298    0.370799    0.371804    0.461070  \n",
       "299    0.370799    0.371804    0.461070  \n",
       "300    0.370799    0.371804    0.461070  \n",
       "\n",
       "[300 rows x 30 columns]"
      ]
     },
     "execution_count": 4,
     "metadata": {},
     "output_type": "execute_result"
    }
   ],
   "source": [
    "shuju2_"
   ]
  },
  {
   "cell_type": "code",
   "execution_count": 5,
   "id": "f882009e",
   "metadata": {},
   "outputs": [],
   "source": [
    "FFS2 =shuju2_.drop(columns=['CASE_control'])"
   ]
  },
  {
   "cell_type": "code",
   "execution_count": 6,
   "id": "35dc5a96",
   "metadata": {},
   "outputs": [
    {
     "name": "stdout",
     "output_type": "stream",
     "text": [
      "<class 'pandas.core.frame.DataFrame'>\n",
      "Int64Index: 300 entries, 1 to 300\n",
      "Data columns (total 29 columns):\n",
      " #   Column       Non-Null Count  Dtype  \n",
      "---  ------       --------------  -----  \n",
      " 0   rs4972989    300 non-null    float64\n",
      " 1   rs2295363    300 non-null    float64\n",
      " 2   rs200989520  300 non-null    float64\n",
      " 3   rs2223477    300 non-null    float64\n",
      " 4   rs56289967   300 non-null    float64\n",
      " 5   rs1554005    300 non-null    float64\n",
      " 6   rs910697     300 non-null    float64\n",
      " 7   rs117432374  300 non-null    float64\n",
      " 8   rs765179955  300 non-null    float64\n",
      " 9   rs6742339    300 non-null    float64\n",
      " 10  rs61218502   300 non-null    float64\n",
      " 11  rs78127097   300 non-null    float64\n",
      " 12  rs1046934    300 non-null    float64\n",
      " 13  rs17255247   300 non-null    float64\n",
      " 14  rs17031614   300 non-null    float64\n",
      " 15  rs2246434    300 non-null    float64\n",
      " 16  rs722896     300 non-null    float64\n",
      " 17  rs5855731    300 non-null    float64\n",
      " 18  rs3732114    300 non-null    float64\n",
      " 19  rs1045910    300 non-null    float64\n",
      " 20  rs1809914    300 non-null    float64\n",
      " 21  rs780404976  300 non-null    float64\n",
      " 22  rs9424680    300 non-null    float64\n",
      " 23  rs2803340    300 non-null    float64\n",
      " 24  rs1635031    300 non-null    float64\n",
      " 25  rs10880030   300 non-null    float64\n",
      " 26  rs4663       300 non-null    float64\n",
      " 27  rs10785227   300 non-null    float64\n",
      " 28  rs13009649   300 non-null    float64\n",
      "dtypes: float64(29)\n",
      "memory usage: 70.3 KB\n"
     ]
    }
   ],
   "source": [
    "FFS2.info()"
   ]
  },
  {
   "cell_type": "code",
   "execution_count": 7,
   "id": "dabff1fe",
   "metadata": {},
   "outputs": [],
   "source": [
    "target2 = shuju2_.CASE_control"
   ]
  },
  {
   "cell_type": "code",
   "execution_count": 8,
   "id": "d3208be6",
   "metadata": {},
   "outputs": [],
   "source": [
    "transfer = StandardScaler()"
   ]
  },
  {
   "cell_type": "code",
   "execution_count": 9,
   "id": "ff73f787",
   "metadata": {},
   "outputs": [],
   "source": [
    "tezheng2 = transfer.fit_transform(FFS2)"
   ]
  },
  {
   "cell_type": "code",
   "execution_count": 10,
   "id": "a7c5369a",
   "metadata": {},
   "outputs": [
    {
     "data": {
      "text/plain": [
       "array([[ 1.01855994, -0.55943826,  1.67566527, ...,  0.37267825,\n",
       "         0.37358649, -0.81679704],\n",
       "       [-1.16746572,  1.12548863, -1.34331312, ...,  0.37267825,\n",
       "         0.37358649, -0.62940046],\n",
       "       [-1.2982255 , -1.40377706, -0.37858135, ..., -2.75656157,\n",
       "        -2.73760751,  0.54640166],\n",
       "       ...,\n",
       "       [-0.76933389,  1.16769037,  1.70328019, ...,  0.37267825,\n",
       "         0.37358649,  0.54640166],\n",
       "       [-0.83642301,  0.96845571, -0.53102433, ...,  0.37267825,\n",
       "         0.37358649,  0.54640166],\n",
       "       [ 0.79334993, -1.25073206, -0.48208481, ...,  0.37267825,\n",
       "         0.37358649,  0.54640166]])"
      ]
     },
     "execution_count": 10,
     "metadata": {},
     "output_type": "execute_result"
    }
   ],
   "source": [
    "tezheng2"
   ]
  },
  {
   "cell_type": "code",
   "execution_count": 109,
   "id": "2a883f39",
   "metadata": {},
   "outputs": [],
   "source": [
    "sss2 = ShuffleSplit(n_splits=50, test_size=0.1,random_state=99)\n"
   ]
  },
  {
   "cell_type": "code",
   "execution_count": 110,
   "id": "42880164",
   "metadata": {},
   "outputs": [],
   "source": [
    "CCs = np.logspace(-3,3,1000)"
   ]
  },
  {
   "cell_type": "code",
   "execution_count": 111,
   "id": "06fc8770",
   "metadata": {},
   "outputs": [],
   "source": [
    "acc_=[]\n",
    "coeff_ = []\n",
    "for C_ in CCs:\n",
    "    LJ_2 = LogisticRegression(penalty='l2',C = C_, solver='liblinear', max_iter=1000)\n",
    "    LJ_2.fit(tezheng2, target2)\n",
    "    coeff_.append(LJ_2.coef_)\n",
    "    score = cross_val_score(LJ_2, tezheng2, target2, cv=sss2)\n",
    "    acc_.append(score.mean())"
   ]
  },
  {
   "cell_type": "code",
   "execution_count": 112,
   "id": "5c106178",
   "metadata": {},
   "outputs": [
    {
     "data": {
      "image/png": "[encoded data removed]",
      "text/plain": [
       "<Figure size 432x288 with 1 Axes>"
      ]
     },
     "metadata": {
      "needs_background": "light"
     },
     "output_type": "display_data"
    }
   ],
   "source": [
    "import matplotlib.pyplot as plt\n",
    "plt.plot(CCs, acc_)\n",
    "plt.xscale('log')\n",
    "plt.xlabel('C')\n",
    "plt.ylabel('acc')\n",
    "plt.show()"
   ]
  },
  {
   "cell_type": "code",
   "execution_count": 113,
   "id": "ce82e4b0",
   "metadata": {},
   "outputs": [
    {
     "data": {
      "image/png": "[encoded data removed]",
      "text/plain": [
       "<Figure size 432x288 with 1 Axes>"
      ]
     },
     "metadata": {
      "needs_background": "light"
     },
     "output_type": "display_data"
    }
   ],
   "source": [
    "coeff_ = np.array(coeff_).reshape(1000,29)\n",
    "plt.plot(CCs, coeff_)\n",
    "plt.xscale('log')\n",
    "plt.xlabel('C')\n",
    "plt.ylabel('Cofficients')\n",
    "plt.show()"
   ]
  },
  {
   "cell_type": "code",
   "execution_count": 114,
   "id": "dbac48b4",
   "metadata": {},
   "outputs": [
    {
     "data": {
      "text/plain": [
       "272"
      ]
     },
     "execution_count": 114,
     "metadata": {},
     "output_type": "execute_result"
    }
   ],
   "source": [
    "np.argmax(acc_)"
   ]
  },
  {
   "cell_type": "code",
   "execution_count": 115,
   "id": "83474c4e",
   "metadata": {
    "scrolled": true
   },
   "outputs": [
    {
     "data": {
      "text/plain": [
       "0.04301635758106795"
      ]
     },
     "execution_count": 115,
     "metadata": {},
     "output_type": "execute_result"
    }
   ],
   "source": [
    "CCs[272]"
   ]
  },
  {
   "cell_type": "code",
   "execution_count": 116,
   "id": "7cb4c3db",
   "metadata": {},
   "outputs": [],
   "source": [
    "LJ2=LogisticRegression(penalty='l2',C =\n",
    "0.04301635758106795, solver='liblinear').fit(tezheng2, target2)"
   ]
  },
  {
   "cell_type": "code",
   "execution_count": 117,
   "id": "55daab39",
   "metadata": {},
   "outputs": [],
   "source": [
    " score2 = cross_val_score(LJ2, tezheng2, target2, cv=sss2)"
   ]
  },
  {
   "cell_type": "code",
   "execution_count": 118,
   "id": "6f7c85f7",
   "metadata": {},
   "outputs": [
    {
     "data": {
      "text/plain": [
       "array([0.66666667, 0.83333333, 0.76666667, 0.86666667, 0.73333333,\n",
       "       0.73333333, 0.76666667, 0.83333333, 1.        , 0.83333333,\n",
       "       0.73333333, 0.8       , 0.8       , 0.83333333, 0.86666667,\n",
       "       0.9       , 0.8       , 0.8       , 0.8       , 0.8       ,\n",
       "       0.73333333, 0.73333333, 0.83333333, 0.83333333, 0.86666667,\n",
       "       0.7       , 0.8       , 0.8       , 0.76666667, 0.83333333,\n",
       "       0.76666667, 0.73333333, 0.76666667, 0.9       , 0.83333333,\n",
       "       0.83333333, 0.76666667, 0.8       , 0.83333333, 0.86666667,\n",
       "       0.86666667, 0.73333333, 0.7       , 0.8       , 0.73333333,\n",
       "       0.76666667, 0.93333333, 0.83333333, 0.86666667, 0.8       ])"
      ]
     },
     "execution_count": 118,
     "metadata": {},
     "output_type": "execute_result"
    }
   ],
   "source": [
    " score2"
   ]
  },
  {
   "cell_type": "code",
   "execution_count": 119,
   "id": "aff85ee0",
   "metadata": {},
   "outputs": [
    {
     "data": {
      "text/plain": [
       "array([[-0.0581693 , -0.1233683 , -0.2016236 , -0.21845928,  0.13296863,\n",
       "        -0.33403769,  0.36111065, -0.27319652, -0.16305744, -0.28947814,\n",
       "        -0.00766242,  0.26310149,  0.23017366, -0.25003787,  0.20648886,\n",
       "         0.33181115,  0.26144128,  0.25531888, -0.20964062, -0.19556217,\n",
       "         0.23552925,  0.17844134, -0.31137505, -0.23482097, -0.1781025 ,\n",
       "         0.1470154 ,  0.14279447,  0.13451548, -0.12089461]])"
      ]
     },
     "execution_count": 119,
     "metadata": {},
     "output_type": "execute_result"
    }
   ],
   "source": [
    "LJ2.coef_"
   ]
  },
  {
   "cell_type": "code",
   "execution_count": 120,
   "id": "c5630799",
   "metadata": {
    "scrolled": true
   },
   "outputs": [
    {
     "data": {
      "text/plain": [
       "0.84"
      ]
     },
     "execution_count": 120,
     "metadata": {},
     "output_type": "execute_result"
    }
   ],
   "source": [
    "LJ2.score(tezheng2,target2)"
   ]
  },
  {
   "cell_type": "code",
   "execution_count": 121,
   "id": "7ecb6b7c",
   "metadata": {},
   "outputs": [
    {
     "data": {
      "text/plain": [
       "0.8039999999999999"
      ]
     },
     "execution_count": 121,
     "metadata": {},
     "output_type": "execute_result"
    }
   ],
   "source": [
    "score2.mean()"
   ]
  },
  {
   "cell_type": "code",
   "execution_count": 125,
   "id": "f1ce3cad",
   "metadata": {},
   "outputs": [],
   "source": [
    "shuju23= pd.read_excel(\"6.15-KNN-ANOVA-feature rank-1.1-2-100-2-L2-TOP25+5-val100.xlsx\",index_col=0)"
   ]
  },
  {
   "cell_type": "code",
   "execution_count": 126,
   "id": "892c8549",
   "metadata": {},
   "outputs": [],
   "source": [
    "shuju23_ =shuju23.copy()"
   ]
  },
  {
   "cell_type": "code",
   "execution_count": 127,
   "id": "424374d8",
   "metadata": {},
   "outputs": [
    {
     "data": {
      "text/html": [
       "<div>\n",
       "<style scoped>\n",
       "    .dataframe tbody tr th:only-of-type {\n",
       "        vertical-align: middle;\n",
       "    }\n",
       "\n",
       "    .dataframe tbody tr th {\n",
       "        vertical-align: top;\n",
       "    }\n",
       "\n",
       "    .dataframe thead th {\n",
       "        text-align: right;\n",
       "    }\n",
       "</style>\n",
       "<table border=\"1\" class=\"dataframe\">\n",
       "  <thead>\n",
       "    <tr style=\"text-align: right;\">\n",
       "      <th></th>\n",
       "      <th>CASE_control</th>\n",
       "      <th>rs4972989</th>\n",
       "      <th>rs2295363</th>\n",
       "      <th>rs200989520</th>\n",
       "      <th>rs2223477</th>\n",
       "      <th>rs56289967</th>\n",
       "      <th>rs1554005</th>\n",
       "      <th>rs910697</th>\n",
       "      <th>rs117432374</th>\n",
       "      <th>rs765179955</th>\n",
       "      <th>...</th>\n",
       "      <th>rs1045910</th>\n",
       "      <th>rs1809914</th>\n",
       "      <th>rs780404976</th>\n",
       "      <th>rs9424680</th>\n",
       "      <th>rs2803340</th>\n",
       "      <th>rs1635031</th>\n",
       "      <th>rs10880030</th>\n",
       "      <th>rs4663</th>\n",
       "      <th>rs10785227</th>\n",
       "      <th>rs13009649</th>\n",
       "    </tr>\n",
       "    <tr>\n",
       "      <th>T: ID</th>\n",
       "      <th></th>\n",
       "      <th></th>\n",
       "      <th></th>\n",
       "      <th></th>\n",
       "      <th></th>\n",
       "      <th></th>\n",
       "      <th></th>\n",
       "      <th></th>\n",
       "      <th></th>\n",
       "      <th></th>\n",
       "      <th></th>\n",
       "      <th></th>\n",
       "      <th></th>\n",
       "      <th></th>\n",
       "      <th></th>\n",
       "      <th></th>\n",
       "      <th></th>\n",
       "      <th></th>\n",
       "      <th></th>\n",
       "      <th></th>\n",
       "      <th></th>\n",
       "    </tr>\n",
       "  </thead>\n",
       "  <tbody>\n",
       "    <tr>\n",
       "      <th>301</th>\n",
       "      <td>1</td>\n",
       "      <td>0.592450</td>\n",
       "      <td>-1.087520</td>\n",
       "      <td>-1.135330</td>\n",
       "      <td>0.592450</td>\n",
       "      <td>0.296027</td>\n",
       "      <td>-1.292130</td>\n",
       "      <td>0.296027</td>\n",
       "      <td>-1.133820</td>\n",
       "      <td>0.296027</td>\n",
       "      <td>...</td>\n",
       "      <td>-0.695606</td>\n",
       "      <td>0.592450</td>\n",
       "      <td>0.296027</td>\n",
       "      <td>0.296027</td>\n",
       "      <td>-1.098620</td>\n",
       "      <td>0.644720</td>\n",
       "      <td>0.371415</td>\n",
       "      <td>0.370799</td>\n",
       "      <td>0.371804</td>\n",
       "      <td>-0.812325</td>\n",
       "    </tr>\n",
       "    <tr>\n",
       "      <th>302</th>\n",
       "      <td>1</td>\n",
       "      <td>0.618102</td>\n",
       "      <td>-1.165040</td>\n",
       "      <td>-0.826765</td>\n",
       "      <td>-0.924132</td>\n",
       "      <td>0.244383</td>\n",
       "      <td>-1.389630</td>\n",
       "      <td>0.618102</td>\n",
       "      <td>-0.917108</td>\n",
       "      <td>0.244383</td>\n",
       "      <td>...</td>\n",
       "      <td>-1.240550</td>\n",
       "      <td>0.618102</td>\n",
       "      <td>0.244383</td>\n",
       "      <td>0.244383</td>\n",
       "      <td>-0.779546</td>\n",
       "      <td>0.644720</td>\n",
       "      <td>0.371415</td>\n",
       "      <td>0.370799</td>\n",
       "      <td>0.371804</td>\n",
       "      <td>-0.682749</td>\n",
       "    </tr>\n",
       "    <tr>\n",
       "      <th>303</th>\n",
       "      <td>1</td>\n",
       "      <td>-0.972725</td>\n",
       "      <td>0.299080</td>\n",
       "      <td>-0.588742</td>\n",
       "      <td>0.609006</td>\n",
       "      <td>-0.955605</td>\n",
       "      <td>-1.285730</td>\n",
       "      <td>0.299080</td>\n",
       "      <td>-1.283570</td>\n",
       "      <td>0.609006</td>\n",
       "      <td>...</td>\n",
       "      <td>0.299080</td>\n",
       "      <td>0.609006</td>\n",
       "      <td>-0.697579</td>\n",
       "      <td>0.299080</td>\n",
       "      <td>0.299080</td>\n",
       "      <td>-0.858487</td>\n",
       "      <td>0.371415</td>\n",
       "      <td>0.370799</td>\n",
       "      <td>0.371804</td>\n",
       "      <td>-0.659518</td>\n",
       "    </tr>\n",
       "    <tr>\n",
       "      <th>304</th>\n",
       "      <td>0</td>\n",
       "      <td>-0.813759</td>\n",
       "      <td>0.590402</td>\n",
       "      <td>-0.938912</td>\n",
       "      <td>0.590402</td>\n",
       "      <td>0.284165</td>\n",
       "      <td>-0.621072</td>\n",
       "      <td>0.284165</td>\n",
       "      <td>-1.076960</td>\n",
       "      <td>0.284165</td>\n",
       "      <td>...</td>\n",
       "      <td>-1.240660</td>\n",
       "      <td>0.284165</td>\n",
       "      <td>-0.898875</td>\n",
       "      <td>0.284165</td>\n",
       "      <td>0.284165</td>\n",
       "      <td>0.644720</td>\n",
       "      <td>0.371415</td>\n",
       "      <td>0.370799</td>\n",
       "      <td>0.371804</td>\n",
       "      <td>-0.103177</td>\n",
       "    </tr>\n",
       "    <tr>\n",
       "      <th>305</th>\n",
       "      <td>1</td>\n",
       "      <td>-0.923779</td>\n",
       "      <td>0.806745</td>\n",
       "      <td>-1.519330</td>\n",
       "      <td>0.094088</td>\n",
       "      <td>0.094088</td>\n",
       "      <td>0.094088</td>\n",
       "      <td>-0.763831</td>\n",
       "      <td>-0.601858</td>\n",
       "      <td>0.094088</td>\n",
       "      <td>...</td>\n",
       "      <td>0.094088</td>\n",
       "      <td>0.806745</td>\n",
       "      <td>0.094088</td>\n",
       "      <td>0.094088</td>\n",
       "      <td>0.806745</td>\n",
       "      <td>-0.907750</td>\n",
       "      <td>0.371415</td>\n",
       "      <td>0.370799</td>\n",
       "      <td>0.371804</td>\n",
       "      <td>-0.478601</td>\n",
       "    </tr>\n",
       "    <tr>\n",
       "      <th>...</th>\n",
       "      <td>...</td>\n",
       "      <td>...</td>\n",
       "      <td>...</td>\n",
       "      <td>...</td>\n",
       "      <td>...</td>\n",
       "      <td>...</td>\n",
       "      <td>...</td>\n",
       "      <td>...</td>\n",
       "      <td>...</td>\n",
       "      <td>...</td>\n",
       "      <td>...</td>\n",
       "      <td>...</td>\n",
       "      <td>...</td>\n",
       "      <td>...</td>\n",
       "      <td>...</td>\n",
       "      <td>...</td>\n",
       "      <td>...</td>\n",
       "      <td>...</td>\n",
       "      <td>...</td>\n",
       "      <td>...</td>\n",
       "      <td>...</td>\n",
       "    </tr>\n",
       "    <tr>\n",
       "      <th>396</th>\n",
       "      <td>1</td>\n",
       "      <td>0.617628</td>\n",
       "      <td>-1.428120</td>\n",
       "      <td>-1.145220</td>\n",
       "      <td>0.257355</td>\n",
       "      <td>0.257355</td>\n",
       "      <td>-1.326620</td>\n",
       "      <td>0.257355</td>\n",
       "      <td>-1.400360</td>\n",
       "      <td>0.257355</td>\n",
       "      <td>...</td>\n",
       "      <td>0.257355</td>\n",
       "      <td>0.617628</td>\n",
       "      <td>-1.167910</td>\n",
       "      <td>-0.787753</td>\n",
       "      <td>-1.438870</td>\n",
       "      <td>-0.706704</td>\n",
       "      <td>0.371415</td>\n",
       "      <td>0.370799</td>\n",
       "      <td>0.371804</td>\n",
       "      <td>0.461070</td>\n",
       "    </tr>\n",
       "    <tr>\n",
       "      <th>397</th>\n",
       "      <td>0</td>\n",
       "      <td>0.591287</td>\n",
       "      <td>-0.786613</td>\n",
       "      <td>0.591287</td>\n",
       "      <td>0.265615</td>\n",
       "      <td>-0.962933</td>\n",
       "      <td>0.265615</td>\n",
       "      <td>0.591287</td>\n",
       "      <td>-0.352065</td>\n",
       "      <td>0.265615</td>\n",
       "      <td>...</td>\n",
       "      <td>0.265615</td>\n",
       "      <td>0.591287</td>\n",
       "      <td>-1.065500</td>\n",
       "      <td>-1.270550</td>\n",
       "      <td>-1.311580</td>\n",
       "      <td>-0.564158</td>\n",
       "      <td>0.371415</td>\n",
       "      <td>0.370799</td>\n",
       "      <td>0.371804</td>\n",
       "      <td>0.461070</td>\n",
       "    </tr>\n",
       "    <tr>\n",
       "      <th>398</th>\n",
       "      <td>1</td>\n",
       "      <td>0.263604</td>\n",
       "      <td>-0.598090</td>\n",
       "      <td>-0.949041</td>\n",
       "      <td>0.636431</td>\n",
       "      <td>-1.193210</td>\n",
       "      <td>0.263604</td>\n",
       "      <td>-0.985768</td>\n",
       "      <td>-1.200120</td>\n",
       "      <td>0.263604</td>\n",
       "      <td>...</td>\n",
       "      <td>-0.845770</td>\n",
       "      <td>0.636431</td>\n",
       "      <td>-1.282160</td>\n",
       "      <td>-1.108430</td>\n",
       "      <td>-1.154250</td>\n",
       "      <td>-1.010590</td>\n",
       "      <td>0.371415</td>\n",
       "      <td>0.370799</td>\n",
       "      <td>0.371804</td>\n",
       "      <td>-0.691875</td>\n",
       "    </tr>\n",
       "    <tr>\n",
       "      <th>399</th>\n",
       "      <td>0</td>\n",
       "      <td>-0.939459</td>\n",
       "      <td>-0.587692</td>\n",
       "      <td>-1.174470</td>\n",
       "      <td>0.241700</td>\n",
       "      <td>-1.612570</td>\n",
       "      <td>-1.234970</td>\n",
       "      <td>0.632785</td>\n",
       "      <td>-0.785971</td>\n",
       "      <td>0.241700</td>\n",
       "      <td>...</td>\n",
       "      <td>0.241700</td>\n",
       "      <td>0.632785</td>\n",
       "      <td>-1.200190</td>\n",
       "      <td>0.241700</td>\n",
       "      <td>0.241700</td>\n",
       "      <td>-0.745318</td>\n",
       "      <td>-2.752730</td>\n",
       "      <td>-2.760810</td>\n",
       "      <td>-2.740680</td>\n",
       "      <td>-0.803605</td>\n",
       "    </tr>\n",
       "    <tr>\n",
       "      <th>400</th>\n",
       "      <td>0</td>\n",
       "      <td>0.057447</td>\n",
       "      <td>0.833302</td>\n",
       "      <td>0.833302</td>\n",
       "      <td>0.057447</td>\n",
       "      <td>-0.965365</td>\n",
       "      <td>-0.739604</td>\n",
       "      <td>0.057447</td>\n",
       "      <td>-0.827501</td>\n",
       "      <td>0.833302</td>\n",
       "      <td>...</td>\n",
       "      <td>0.057447</td>\n",
       "      <td>0.833302</td>\n",
       "      <td>-1.121100</td>\n",
       "      <td>-1.179260</td>\n",
       "      <td>0.057447</td>\n",
       "      <td>-0.423608</td>\n",
       "      <td>0.371415</td>\n",
       "      <td>0.370799</td>\n",
       "      <td>0.371804</td>\n",
       "      <td>0.461070</td>\n",
       "    </tr>\n",
       "  </tbody>\n",
       "</table>\n",
       "<p>100 rows × 30 columns</p>\n",
       "</div>"
      ],
      "text/plain": [
       "       CASE_control  rs4972989  rs2295363  rs200989520  rs2223477  rs56289967  \\\n",
       "T: ID                                                                           \n",
       "301               1   0.592450  -1.087520    -1.135330   0.592450    0.296027   \n",
       "302               1   0.618102  -1.165040    -0.826765  -0.924132    0.244383   \n",
       "303               1  -0.972725   0.299080    -0.588742   0.609006   -0.955605   \n",
       "304               0  -0.813759   0.590402    -0.938912   0.590402    0.284165   \n",
       "305               1  -0.923779   0.806745    -1.519330   0.094088    0.094088   \n",
       "...             ...        ...        ...          ...        ...         ...   \n",
       "396               1   0.617628  -1.428120    -1.145220   0.257355    0.257355   \n",
       "397               0   0.591287  -0.786613     0.591287   0.265615   -0.962933   \n",
       "398               1   0.263604  -0.598090    -0.949041   0.636431   -1.193210   \n",
       "399               0  -0.939459  -0.587692    -1.174470   0.241700   -1.612570   \n",
       "400               0   0.057447   0.833302     0.833302   0.057447   -0.965365   \n",
       "\n",
       "       rs1554005  rs910697  rs117432374  rs765179955  ...  rs1045910  \\\n",
       "T: ID                                                 ...              \n",
       "301    -1.292130  0.296027    -1.133820     0.296027  ...  -0.695606   \n",
       "302    -1.389630  0.618102    -0.917108     0.244383  ...  -1.240550   \n",
       "303    -1.285730  0.299080    -1.283570     0.609006  ...   0.299080   \n",
       "304    -0.621072  0.284165    -1.076960     0.284165  ...  -1.240660   \n",
       "305     0.094088 -0.763831    -0.601858     0.094088  ...   0.094088   \n",
       "...          ...       ...          ...          ...  ...        ...   \n",
       "396    -1.326620  0.257355    -1.400360     0.257355  ...   0.257355   \n",
       "397     0.265615  0.591287    -0.352065     0.265615  ...   0.265615   \n",
       "398     0.263604 -0.985768    -1.200120     0.263604  ...  -0.845770   \n",
       "399    -1.234970  0.632785    -0.785971     0.241700  ...   0.241700   \n",
       "400    -0.739604  0.057447    -0.827501     0.833302  ...   0.057447   \n",
       "\n",
       "       rs1809914  rs780404976  rs9424680  rs2803340  rs1635031  rs10880030  \\\n",
       "T: ID                                                                        \n",
       "301     0.592450     0.296027   0.296027  -1.098620   0.644720    0.371415   \n",
       "302     0.618102     0.244383   0.244383  -0.779546   0.644720    0.371415   \n",
       "303     0.609006    -0.697579   0.299080   0.299080  -0.858487    0.371415   \n",
       "304     0.284165    -0.898875   0.284165   0.284165   0.644720    0.371415   \n",
       "305     0.806745     0.094088   0.094088   0.806745  -0.907750    0.371415   \n",
       "...          ...          ...        ...        ...        ...         ...   \n",
       "396     0.617628    -1.167910  -0.787753  -1.438870  -0.706704    0.371415   \n",
       "397     0.591287    -1.065500  -1.270550  -1.311580  -0.564158    0.371415   \n",
       "398     0.636431    -1.282160  -1.108430  -1.154250  -1.010590    0.371415   \n",
       "399     0.632785    -1.200190   0.241700   0.241700  -0.745318   -2.752730   \n",
       "400     0.833302    -1.121100  -1.179260   0.057447  -0.423608    0.371415   \n",
       "\n",
       "         rs4663  rs10785227  rs13009649  \n",
       "T: ID                                    \n",
       "301    0.370799    0.371804   -0.812325  \n",
       "302    0.370799    0.371804   -0.682749  \n",
       "303    0.370799    0.371804   -0.659518  \n",
       "304    0.370799    0.371804   -0.103177  \n",
       "305    0.370799    0.371804   -0.478601  \n",
       "...         ...         ...         ...  \n",
       "396    0.370799    0.371804    0.461070  \n",
       "397    0.370799    0.371804    0.461070  \n",
       "398    0.370799    0.371804   -0.691875  \n",
       "399   -2.760810   -2.740680   -0.803605  \n",
       "400    0.370799    0.371804    0.461070  \n",
       "\n",
       "[100 rows x 30 columns]"
      ]
     },
     "execution_count": 127,
     "metadata": {},
     "output_type": "execute_result"
    }
   ],
   "source": [
    "shuju23_"
   ]
  },
  {
   "cell_type": "code",
   "execution_count": 128,
   "id": "4675d013",
   "metadata": {},
   "outputs": [],
   "source": [
    "FFS23 =shuju23_.drop(columns=['CASE_control'])"
   ]
  },
  {
   "cell_type": "code",
   "execution_count": 129,
   "id": "e2af41ce",
   "metadata": {},
   "outputs": [
    {
     "name": "stdout",
     "output_type": "stream",
     "text": [
      "<class 'pandas.core.frame.DataFrame'>\n",
      "Int64Index: 100 entries, 301 to 400\n",
      "Data columns (total 29 columns):\n",
      " #   Column       Non-Null Count  Dtype  \n",
      "---  ------       --------------  -----  \n",
      " 0   rs4972989    100 non-null    float64\n",
      " 1   rs2295363    100 non-null    float64\n",
      " 2   rs200989520  100 non-null    float64\n",
      " 3   rs2223477    100 non-null    float64\n",
      " 4   rs56289967   100 non-null    float64\n",
      " 5   rs1554005    100 non-null    float64\n",
      " 6   rs910697     100 non-null    float64\n",
      " 7   rs117432374  100 non-null    float64\n",
      " 8   rs765179955  100 non-null    float64\n",
      " 9   rs6742339    100 non-null    float64\n",
      " 10  rs61218502   100 non-null    float64\n",
      " 11  rs78127097   100 non-null    float64\n",
      " 12  rs1046934    100 non-null    float64\n",
      " 13  rs17255247   100 non-null    float64\n",
      " 14  rs17031614   100 non-null    float64\n",
      " 15  rs2246434    100 non-null    float64\n",
      " 16  rs722896     100 non-null    float64\n",
      " 17  rs5855731    100 non-null    float64\n",
      " 18  rs3732114    100 non-null    float64\n",
      " 19  rs1045910    100 non-null    float64\n",
      " 20  rs1809914    100 non-null    float64\n",
      " 21  rs780404976  100 non-null    float64\n",
      " 22  rs9424680    100 non-null    float64\n",
      " 23  rs2803340    100 non-null    float64\n",
      " 24  rs1635031    100 non-null    float64\n",
      " 25  rs10880030   100 non-null    float64\n",
      " 26  rs4663       100 non-null    float64\n",
      " 27  rs10785227   100 non-null    float64\n",
      " 28  rs13009649   100 non-null    float64\n",
      "dtypes: float64(29)\n",
      "memory usage: 23.4 KB\n"
     ]
    }
   ],
   "source": [
    "FFS23.info()"
   ]
  },
  {
   "cell_type": "code",
   "execution_count": 130,
   "id": "30c42b00",
   "metadata": {},
   "outputs": [],
   "source": [
    "target23 = shuju23_.CASE_control"
   ]
  },
  {
   "cell_type": "code",
   "execution_count": 131,
   "id": "d66dbc1b",
   "metadata": {},
   "outputs": [],
   "source": [
    "transfer = StandardScaler()"
   ]
  },
  {
   "cell_type": "code",
   "execution_count": 132,
   "id": "e6fb86a5",
   "metadata": {},
   "outputs": [],
   "source": [
    "tezheng23 = transfer.fit_transform(FFS23)"
   ]
  },
  {
   "cell_type": "code",
   "execution_count": 133,
   "id": "dd1ffdfd",
   "metadata": {},
   "outputs": [
    {
     "data": {
      "text/plain": [
       "array([[ 1.07734754, -0.9726091 , -0.79626157, ...,  0.36700386,\n",
       "         0.36830694, -0.86362251],\n",
       "       [ 1.10949469, -1.06471991, -0.42438459, ...,  0.36700386,\n",
       "         0.36830694, -0.74906506],\n",
       "       [-0.88413323,  0.67497667, -0.13752356, ...,  0.36700386,\n",
       "         0.36830694, -0.72852666],\n",
       "       ...,\n",
       "       [ 0.66523701, -0.39105862, -0.57174942, ...,  0.36700386,\n",
       "         0.36830694, -0.75713331],\n",
       "       [-0.8424442 , -0.37870351, -0.84343239, ..., -2.78773488,\n",
       "        -2.76388288, -0.8559132 ],\n",
       "       [ 0.40688123,  1.3097499 ,  1.57629826, ...,  0.36700386,\n",
       "         0.36830694,  0.26217913]])"
      ]
     },
     "execution_count": 133,
     "metadata": {},
     "output_type": "execute_result"
    }
   ],
   "source": [
    "tezheng23"
   ]
  },
  {
   "cell_type": "code",
   "execution_count": 134,
   "id": "8133cff7",
   "metadata": {},
   "outputs": [
    {
     "data": {
      "text/plain": [
       "array([1, 1, 1, 1, 0, 0, 1, 0, 0, 0, 1, 1, 0, 1, 0, 1, 1, 1, 0, 0, 0, 1,\n",
       "       0, 0, 0, 0, 0, 0, 1, 0, 1, 0, 0, 0, 1, 1, 1, 1, 0, 0, 1, 0, 0, 1,\n",
       "       0, 1, 0, 1, 0, 1, 1, 1, 1, 0, 0, 0, 1, 1, 1, 1, 0, 0, 0, 0, 1, 0,\n",
       "       1, 0, 0, 1, 0, 1, 0, 0, 0, 1, 1, 1, 1, 1, 0, 0, 0, 1, 1, 0, 1, 0,\n",
       "       0, 1, 0, 0, 1, 0, 0, 1, 0, 1, 0, 1], dtype=int64)"
      ]
     },
     "execution_count": 134,
     "metadata": {},
     "output_type": "execute_result"
    }
   ],
   "source": [
    "test_predict = LJ2.predict(tezheng23)\n",
    "test_predict"
   ]
  },
  {
   "cell_type": "code",
   "execution_count": 135,
   "id": "22427e12",
   "metadata": {},
   "outputs": [],
   "source": [
    "from sklearn.metrics import auc\n",
    "from sklearn.metrics import confusion_matrix, roc_curve,accuracy_score\n",
    "import seaborn as sns"
   ]
  },
  {
   "cell_type": "code",
   "execution_count": 136,
   "id": "ee3ed18f",
   "metadata": {},
   "outputs": [
    {
     "data": {
      "text/plain": [
       "array([[37, 13],\n",
       "       [16, 34]], dtype=int64)"
      ]
     },
     "execution_count": 136,
     "metadata": {},
     "output_type": "execute_result"
    }
   ],
   "source": [
    "confusion_matrix(target23,test_predict )"
   ]
  },
  {
   "cell_type": "code",
   "execution_count": 137,
   "id": "afea3d7d",
   "metadata": {},
   "outputs": [],
   "source": [
    "y_score = LJ2.decision_function(tezheng23)"
   ]
  },
  {
   "cell_type": "code",
   "execution_count": 138,
   "id": "a9067936",
   "metadata": {},
   "outputs": [],
   "source": [
    "fpr, tpr, thresholds = roc_curve(target23, y_score)"
   ]
  },
  {
   "cell_type": "code",
   "execution_count": 139,
   "id": "225b2cf2",
   "metadata": {},
   "outputs": [
    {
     "data": {
      "text/plain": [
       "0.7968000000000001"
      ]
     },
     "execution_count": 139,
     "metadata": {},
     "output_type": "execute_result"
    }
   ],
   "source": [
    "auc_ = auc(fpr, tpr)\n",
    "auc_"
   ]
  },
  {
   "cell_type": "code",
   "execution_count": 140,
   "id": "e1cc2c4f",
   "metadata": {},
   "outputs": [
    {
     "data": {
      "text/plain": [
       "0.71"
      ]
     },
     "execution_count": 140,
     "metadata": {},
     "output_type": "execute_result"
    }
   ],
   "source": [
    "accuracy_score(target23,test_predict)"
   ]
  },
  {
   "cell_type": "code",
   "execution_count": 141,
   "id": "269161f2",
   "metadata": {},
   "outputs": [],
   "source": [
    "from sklearn.metrics import plot_confusion_matrix, plot_roc_curve, plot_precision_recall_curve"
   ]
  },
  {
   "cell_type": "code",
   "execution_count": 142,
   "id": "78031c5d",
   "metadata": {},
   "outputs": [
    {
     "name": "stderr",
     "output_type": "stream",
     "text": [
      "C:\\Users\\DELL\\anaconda3\\lib\\site-packages\\sklearn\\utils\\deprecation.py:87: FutureWarning: Function plot_roc_curve is deprecated; Function :func:`plot_roc_curve` is deprecated in 1.0 and will be removed in 1.2. Use one of the class methods: :meth:`sklearn.metric.RocCurveDisplay.from_predictions` or :meth:`sklearn.metric.RocCurveDisplay.from_estimator`.\n",
      "  warnings.warn(msg, category=FutureWarning)\n"
     ]
    },
    {
     "data": {
      "text/plain": [
       "<sklearn.metrics._plot.roc_curve.RocCurveDisplay at 0x2339cf1f190>"
      ]
     },
     "execution_count": 142,
     "metadata": {},
     "output_type": "execute_result"
    },
    {
     "data": {
      "image/png": "[encoded data removed]",
      "text/plain": [
       "<Figure size 432x288 with 1 Axes>"
      ]
     },
     "metadata": {
      "needs_background": "light"
     },
     "output_type": "display_data"
    }
   ],
   "source": [
    "plot_roc_curve(LJ2, tezheng23, target23)"
   ]
  },
  {
   "cell_type": "code",
   "execution_count": null,
   "id": "7024995f",
   "metadata": {},
   "outputs": [],
   "source": []
  }
 ],
 "metadata": {
  "kernelspec": {
   "display_name": "Python 3 (ipykernel)",
   "language": "python",
   "name": "python3"
  },
  "language_info": {
   "codemirror_mode": {
    "name": "ipython",
    "version": 3
   },
   "file_extension": ".py",
   "mimetype": "text/x-python",
   "name": "python",
   "nbconvert_exporter": "python",
   "pygments_lexer": "ipython3",
   "version": "3.9.12"
  }
 },
 "nbformat": 4,
 "nbformat_minor": 5
}
